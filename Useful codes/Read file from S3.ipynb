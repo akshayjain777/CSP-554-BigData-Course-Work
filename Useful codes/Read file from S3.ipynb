{
 "cells": [
  {
   "cell_type": "markdown",
   "id": "79654171",
   "metadata": {},
   "source": [
    "# AWS Configure on Local"
   ]
  },
  {
   "cell_type": "code",
   "execution_count": null,
   "id": "7e9b44ce",
   "metadata": {},
   "outputs": [],
   "source": [
    "# CLI cmds/ Create IAM role - Key & ID pair to provide required access to read files from S3 on Local.\n",
    "\n",
    "# aws configure\n",
    "# AWS Access Key ID [None]: ----------\n",
    "# AWS Secret Access Key [None]: --------\n",
    "# aws --version\n",
    "# Pip install s3fs\n",
    "# pip install --upgrade botocore"
   ]
  },
  {
   "cell_type": "markdown",
   "id": "b24ddd09",
   "metadata": {},
   "source": [
    "# Code to Read File "
   ]
  },
  {
   "cell_type": "code",
   "execution_count": null,
   "id": "9c10a931",
   "metadata": {},
   "outputs": [],
   "source": [
    "import boto3\n",
    "client = boto3.client('s3')"
   ]
  },
  {
   "cell_type": "code",
   "execution_count": null,
   "id": "eb1f365f",
   "metadata": {},
   "outputs": [],
   "source": [
    "import pandas as pd\n",
    "df = pd.read_csv(\"s3://read-file-from-bucket/test.csv\")"
   ]
  },
  {
   "cell_type": "code",
   "execution_count": null,
   "id": "fc9f5d93",
   "metadata": {},
   "outputs": [],
   "source": [
    "df"
   ]
  }
 ],
 "metadata": {
  "kernelspec": {
   "display_name": "Python 3.8.13 ('tensorflow')",
   "language": "python",
   "name": "python3813jvsc74a57bd02d979bf07d3abbabe4ec79c8fbb64f41c2ace49e826064bd1b1fc934ae914401"
  },
  "language_info": {
   "codemirror_mode": {
    "name": "ipython",
    "version": 3
   },
   "file_extension": ".py",
   "mimetype": "text/x-python",
   "name": "python",
   "nbconvert_exporter": "python",
   "pygments_lexer": "ipython3",
   "version": "3.8.13"
  }
 },
 "nbformat": 4,
 "nbformat_minor": 5
}
